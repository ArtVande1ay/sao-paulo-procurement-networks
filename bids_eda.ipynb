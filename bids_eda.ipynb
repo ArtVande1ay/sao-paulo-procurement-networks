{
 "cells": [
  {
   "cell_type": "markdown",
   "id": "767d8d22-f6db-4c60-8af5-7eb55b206e92",
   "metadata": {},
   "source": [
    "# SP Procurement Data Investigation"
   ]
  },
  {
   "cell_type": "markdown",
   "id": "7fe491b3-bd6f-4875-907a-23808f64a926",
   "metadata": {},
   "source": [
    "11/11/2024\n",
    "\n",
    "We look at the bidding data for 01/2020 available from GDrive. For each auction, we have a tender code that identifies the auction, the municipality that it is in, the entity that is conducting the auction, the object of the auction, some columns related to the requested item, and the bidder. So there are multiple entries for each auction: one entry for each item + bidder combination. Further, there are more duplicates. It appears that some of the auctions are \"cross-listed\" across multiple municipalities. This results in duplicate entries for the same auction (including for every item and bidder). In these cases there is one set of entries in one municipality and one big buyer from that municipality (say the whole govt) and a duplicate set of entries in another municipality, also with the whole municipality govt. For simplicity of analysis, I subset to the municipality with the largest number of auctions, Sao Paulo.\n",
    "\n",
    "Statistics about the overall data:\n",
    "- Number of auctions: 7,715\n",
    "- Number of entities (buyers): 1,225\n",
    "- Number of bidders: 11,343\n",
    "- Number of categories of objects: 25\n",
    "- Number of municipalities: 518 (the two biggest: Sao Paulo and Pirangi, some with just one auction)\n",
    "\n",
    "After subsetting to Sao Paulo:\n",
    "- Number of auctions: 2063\n",
    "- Number of entities (buyers): 167\n",
    "- Number of bidders: 3699\n",
    "\n",
    "Each auction can have multiple items and multiple bidders. Bidders do not necessarily have to bid for all items, they can bid for just some.\n",
    "- The auctions have up to almost 200 items, though this is right-tailed, the mean is around 4.\n",
    "- Each auction has around 7 bidders on average, and each item has around 4 bidders on average, both of these distribution as expected are also right tailed.\n",
    "- Auctions end with a winner around 63% of the time.\n",
    "\n",
    "For some auctions, the same item appears to be listed multiple times with either different budgets or different quantities. It isn't clear if this is the same item relisted or if this is multiple different repeat items, each with different quantities and budgets. \n",
    "\n",
    "If we assume that these are all separate listings -- then we see that bidders often re-bid. On average, around 30% of bidders re-bid. They mostly re-bid 2-4 times, but in the data re-bid up to 20 times."
   ]
  },
  {
   "cell_type": "code",
   "execution_count": 1,
   "id": "ea18c6df-6462-4aa1-8b13-65df4e9f7bbe",
   "metadata": {
    "scrolled": true
   },
   "outputs": [
    {
     "name": "stderr",
     "output_type": "stream",
     "text": [
      "/tmp/ipykernel_46122/350930122.py:8: DtypeWarning: Columns (9,10,11,12,13,14,15) have mixed types. Specify dtype option on import or set low_memory=False.\n",
      "  df = pd.read_csv(\"licitacao-2020-01_0.csv\", delimiter=\";\")\n"
     ]
    },
    {
     "name": "stdout",
     "output_type": "stream",
     "text": [
      "shape: (1661495, 21)\n"
     ]
    },
    {
     "data": {
      "text/plain": [
       "Index(['Município', 'Entidade', 'Código da Licitação',\n",
       "       'Modalidade de licitação', 'Objeto', 'Descrição do objeto contratado',\n",
       "       'Produto (item)', 'Quantidade do objeto contratado (item)',\n",
       "       'Unidade do objeto contratado',\n",
       "       'Valor unitário orçamento estimativo lote',\n",
       "       'Quantidade orçamento estimativo lote',\n",
       "       'Unidade de medida orçamento estimativo lote',\n",
       "       'Valor unitário orçamento estimativo item',\n",
       "       'Quantidade orçamento estimativo item',\n",
       "       'Unidade de medida orçamento estimativo item', 'Número do edital',\n",
       "       'Data do edital', 'CNPJ do participante candidato',\n",
       "       'Nome do participante candidato', 'Resultado da Habilitação',\n",
       "       'Valor da Proposta'],\n",
       "      dtype='object')"
      ]
     },
     "execution_count": 1,
     "metadata": {},
     "output_type": "execute_result"
    }
   ],
   "source": [
    "# load data\n",
    "# GDrive: SPProcurement > ProcurementData > Municipal > Procurements > \"licitacao-2020-01_0.zip\"\n",
    "import numpy as np\n",
    "import pandas as pd\n",
    "import networkx as nx\n",
    "import matplotlib.pyplot as plt\n",
    "\n",
    "df = pd.read_csv(\"licitacao-2020-01_0.csv\", delimiter=\";\")\n",
    "print(f\"shape: {df.shape}\")\n",
    "df.columns"
   ]
  },
  {
   "cell_type": "code",
   "execution_count": 3,
   "id": "ba8dbed5-1f02-49c1-9c32-deadcdff580f",
   "metadata": {},
   "outputs": [],
   "source": [
    "# thanks google translate\n",
    "df.columns = ['Municipality', 'Entity', 'Tender Code',\n",
    "       'Tendering modality', 'Object', 'Description of the contracted object',\n",
    "       'Product (item)', 'Quantity of contracted object (item)',\n",
    "       'Unit of contracted object',\n",
    "       'Batch estimate budget unit value',\n",
    "       'Batch estimate budget quantity',\n",
    "       'Lot estimate budget measurement unit',\n",
    "       'Item estimate budget unit value',\n",
    "       'Budget estimate item quantity',\n",
    "       'Unit of measure budget estimate item', 'Notice number',\n",
    "       'Date of the notice', 'CNPJ of the candidate participant',\n",
    "       'Name of candidate participant', 'Qualification Result',\n",
    "       'Proposal Value']"
   ]
  },
  {
   "cell_type": "code",
   "execution_count": 4,
   "id": "24b1d34f-ae52-4f0f-bf76-6160d7435e59",
   "metadata": {},
   "outputs": [
    {
     "data": {
      "text/plain": [
       "7715"
      ]
     },
     "execution_count": 4,
     "metadata": {},
     "output_type": "execute_result"
    }
   ],
   "source": [
    "# number of auctions\n",
    "len(df[\"Tender Code\"].unique())"
   ]
  },
  {
   "cell_type": "code",
   "execution_count": 5,
   "id": "0fbef400-8128-450b-9237-e8f7eee58d03",
   "metadata": {},
   "outputs": [
    {
     "data": {
      "text/plain": [
       "1225"
      ]
     },
     "execution_count": 5,
     "metadata": {},
     "output_type": "execute_result"
    }
   ],
   "source": [
    "# number of entities (buyers)\n",
    "len(df[\"Entity\"].unique())"
   ]
  },
  {
   "cell_type": "code",
   "execution_count": 6,
   "id": "19149c45-a072-4ab5-bbb2-e14489435b32",
   "metadata": {},
   "outputs": [
    {
     "name": "stdout",
     "output_type": "stream",
     "text": [
      "Including the subdivisions in the CNPJ code: 11476\n",
      "After removing the subdivisions in the CNPJ code: 11343\n"
     ]
    }
   ],
   "source": [
    "# number of bidders\n",
    "print(f\"Including the subdivisions in the CNPJ code: {len(df['CNPJ of the candidate participant'].unique())}\")\n",
    "\n",
    "# we first remove the subdivisions in the CNPJ code\n",
    "df[\"CNPJ of the candidate participant\"] = [str(code)[:11] for code in df[\"CNPJ of the candidate participant\"]]\n",
    "\n",
    "print(f\"After removing the subdivisions in the CNPJ code: {len(df['CNPJ of the candidate participant'].unique())}\")"
   ]
  },
  {
   "cell_type": "code",
   "execution_count": 7,
   "id": "2a5c8fc8-6a9b-4beb-94e5-de9a5b38a50b",
   "metadata": {},
   "outputs": [
    {
     "data": {
      "text/plain": [
       "518"
      ]
     },
     "execution_count": 7,
     "metadata": {},
     "output_type": "execute_result"
    }
   ],
   "source": [
    "# number of municipalities\n",
    "len(df[\"Municipality\"].unique())"
   ]
  },
  {
   "cell_type": "code",
   "execution_count": 8,
   "id": "473ff497-cb8e-41d2-b828-3e821f27e01b",
   "metadata": {},
   "outputs": [
    {
     "data": {
      "text/plain": [
       "25"
      ]
     },
     "execution_count": 8,
     "metadata": {},
     "output_type": "execute_result"
    }
   ],
   "source": [
    "# number of unique objects\n",
    "len(df[\"Object\"].unique())"
   ]
  },
  {
   "cell_type": "code",
   "execution_count": 9,
   "id": "9d5caa2f-1b66-4e4a-b2f1-66e46397fcee",
   "metadata": {},
   "outputs": [
    {
     "data": {
      "text/plain": [
       "Municipality\n",
       "São Paulo            145975\n",
       "Pirangi              106046\n",
       "Indaiatuba            51558\n",
       "Lins                  41199\n",
       "Santos                36767\n",
       "São Sebastião         34968\n",
       "Zacarias              28940\n",
       "Tambaú                28536\n",
       "Cândido Rodrigues     24440\n",
       "Pindamonhangaba       23972\n",
       "Name: count, dtype: int64"
      ]
     },
     "execution_count": 9,
     "metadata": {},
     "output_type": "execute_result"
    }
   ],
   "source": [
    "# what are the top 10 municipalities by number of auctions?\n",
    "df[\"Municipality\"].value_counts().head(10)"
   ]
  },
  {
   "cell_type": "code",
   "execution_count": 48,
   "id": "59d9ecf2-27f1-49ba-a5d6-06889aa12329",
   "metadata": {},
   "outputs": [
    {
     "name": "stdout",
     "output_type": "stream",
     "text": [
      "Number of auctions: 2063\n",
      "Number of entities (buyers): 167\n",
      "Number of bidders: 3699\n"
     ]
    }
   ],
   "source": [
    "# subset to Sao Paulo\n",
    "df = df[df[\"Municipality\"] == \"São Paulo\"]\n",
    "\n",
    "print(f\"Number of auctions: {len(df['Tender Code'].unique())}\")\n",
    "print(f'Number of entities (buyers): {len(df[\"Entity\"].unique())}')\n",
    "print(f'Number of bidders: {len(df[\"CNPJ of the candidate participant\"].unique())}')"
   ]
  },
  {
   "cell_type": "code",
   "execution_count": 113,
   "id": "8fefc492-4439-469b-bc07-543a195f1200",
   "metadata": {},
   "outputs": [
    {
     "data": {
      "text/plain": [
       "(145975, 24)"
      ]
     },
     "execution_count": 113,
     "metadata": {},
     "output_type": "execute_result"
    }
   ],
   "source": [
    "df.shape"
   ]
  },
  {
   "cell_type": "code",
   "execution_count": 59,
   "id": "c48fe515-e588-409e-bf9c-c83dd5954ddf",
   "metadata": {},
   "outputs": [
    {
     "name": "stdout",
     "output_type": "stream",
     "text": [
      "Mean number of unique bidders per auction: 6.94\n"
     ]
    },
    {
     "data": {
      "image/png": "[encoded data removed]",
      "text/plain": [
       "<Figure size 640x480 with 1 Axes>"
      ]
     },
     "metadata": {},
     "output_type": "display_data"
    },
    {
     "name": "stdout",
     "output_type": "stream",
     "text": [
      "Mean number of unique bidders per auction + item combo: 4.08\n"
     ]
    },
    {
     "data": {
      "text/plain": [
       "Text(0, 0.5, 'Number of auctions')"
      ]
     },
     "execution_count": 59,
     "metadata": {},
     "output_type": "execute_result"
    },
    {
     "data": {
      "image/png": "[encoded data removed]",
      "text/plain": [
       "<Figure size 640x480 with 1 Axes>"
      ]
     },
     "metadata": {},
     "output_type": "display_data"
    }
   ],
   "source": [
    "# what is the distribution of the number of unique bidders per auction?\n",
    "\n",
    "print(f\"Mean number of unique bidders per auction: {df.groupby('Tender Code')['CNPJ of the candidate participant'].nunique().mean():.2f}\")\n",
    "# y axis in log scale\n",
    "\n",
    "plt.hist(df.groupby(\"Tender Code\")[\"CNPJ of the candidate participant\"].nunique(), bins=100)\n",
    "plt.xlabel(\"Number of unique bidders\")\n",
    "plt.ylabel(\"Number of auctions (LOG SCALE)\")\n",
    "plt.yscale(\"log\")\n",
    "plt.show() \n",
    "\n",
    "# what is the distribution of the number of unique bidders per auction + item combo?\n",
    "\n",
    "print(f\"Mean number of unique bidders per auction + item combo: \"\n",
    "      f\"{df.groupby(['Tender Code', 'Description of the contracted object'])['CNPJ of the candidate participant'].nunique().mean():.2f}\")\n",
    "plt.hist(df.groupby([\"Tender Code\", \"Description of the contracted object\"])[\"CNPJ of the candidate participant\"].nunique(), bins=20)\n",
    "plt.xlabel(\"Number of unique bidders\")\n",
    "plt.ylabel(\"Number of auctions\")"
   ]
  },
  {
   "cell_type": "code",
   "execution_count": 62,
   "id": "88786b24-c50a-4d6a-ae5c-35730ae315a5",
   "metadata": {},
   "outputs": [
    {
     "name": "stdout",
     "output_type": "stream",
     "text": [
      "Mean number of unique items per auction: 4.24\n"
     ]
    },
    {
     "data": {
      "image/png": "[encoded data removed]",
      "text/plain": [
       "<Figure size 640x480 with 1 Axes>"
      ]
     },
     "metadata": {},
     "output_type": "display_data"
    }
   ],
   "source": [
    "# what is the distribution of the number of unique items per auction?\n",
    "print(f\"Mean number of unique items per auction: {df.groupby('Tender Code')['Description of the contracted object'].nunique().mean():.2f}\")\n",
    "plt.hist(df.groupby(\"Tender Code\")[\"Description of the contracted object\"].nunique(), bins=20)\n",
    "plt.xlabel(\"Number of unique items\")\n",
    "plt.ylabel(\"Number of auctions (LOG SCALE)\")\n",
    "plt.yscale(\"log\")"
   ]
  },
  {
   "cell_type": "code",
   "execution_count": 54,
   "id": "263f16e6-1ffc-4d00-a054-c4fe75c43773",
   "metadata": {},
   "outputs": [
    {
     "name": "stderr",
     "output_type": "stream",
     "text": [
      "/tmp/ipykernel_46122/1486607285.py:5: SettingWithCopyWarning: \n",
      "A value is trying to be set on a copy of a slice from a DataFrame.\n",
      "Try using .loc[row_indexer,col_indexer] = value instead\n",
      "\n",
      "See the caveats in the documentation: https://pandas.pydata.org/pandas-docs/stable/user_guide/indexing.html#returning-a-view-versus-a-copy\n",
      "  df[\"num_items\"] = df.groupby(\"Tender Code\")[\"Description of the contracted object\"].transform(\"nunique\")\n",
      "/tmp/ipykernel_46122/1486607285.py:6: SettingWithCopyWarning: \n",
      "A value is trying to be set on a copy of a slice from a DataFrame.\n",
      "Try using .loc[row_indexer,col_indexer] = value instead\n",
      "\n",
      "See the caveats in the documentation: https://pandas.pydata.org/pandas-docs/stable/user_guide/indexing.html#returning-a-view-versus-a-copy\n",
      "  df[\"num_bidders\"] = df.groupby(\"Tender Code\")[\"CNPJ of the candidate participant\"].transform(\"nunique\")\n"
     ]
    },
    {
     "data": {
      "text/plain": [
       "<matplotlib.collections.PathCollection at 0x784924568670>"
      ]
     },
     "execution_count": 54,
     "metadata": {},
     "output_type": "execute_result"
    },
    {
     "data": {
      "image/png": "[encoded data removed]",
      "text/plain": [
       "<Figure size 1000x600 with 1 Axes>"
      ]
     },
     "metadata": {},
     "output_type": "display_data"
    }
   ],
   "source": [
    "# does the number of bidders increase with the number of items?\n",
    "\n",
    "import seaborn as sns\n",
    "\n",
    "df[\"num_items\"] = df.groupby(\"Tender Code\")[\"Description of the contracted object\"].transform(\"nunique\")\n",
    "df[\"num_bidders\"] = df.groupby(\"Tender Code\")[\"CNPJ of the candidate participant\"].transform(\"nunique\")\n",
    "\n",
    "plt.figure(figsize=(10, 6))\n",
    "plt.title(\"Number of unique bidders per auction by number of items\")\n",
    "plt.xlabel(\"Number of items\")\n",
    "plt.ylabel(\"Number of unique bidders\")\n",
    "plt.grid()\n",
    "plt.scatter(df[\"num_items\"], df[\"num_bidders\"], s=3, c=\"black\", alpha=0.8)"
   ]
  },
  {
   "cell_type": "code",
   "execution_count": 55,
   "id": "03cd0d31-86ea-46f2-8c15-930ab0662c4e",
   "metadata": {},
   "outputs": [
    {
     "data": {
      "text/plain": [
       "array(['Classificado', 'Classificado - Vencedor', 'Desclassificado', nan,\n",
       "       'Inabilitado', 'Desistiu', 'Nao Compareceu'], dtype=object)"
      ]
     },
     "execution_count": 55,
     "metadata": {},
     "output_type": "execute_result"
    }
   ],
   "source": [
    "# how do we figure out who wins the auction?\n",
    "# what are the unique values of \"Qualification Result\"?\n",
    "# per google translate this is:\n",
    "\n",
    "#'Classified - Winner', 'Disqualified', 'Disqualified',\n",
    "#       'Classified', 'Didn't Show Up', 'Withdrew'\n",
    "\n",
    "df[\"Qualification Result\"].unique()"
   ]
  },
  {
   "cell_type": "code",
   "execution_count": 98,
   "id": "63d3e036-c302-44cb-b8c6-4aefcb2009b7",
   "metadata": {},
   "outputs": [
    {
     "data": {
      "text/plain": [
       "CNPJ of the candidate participant\n",
       "1     5462\n",
       "2       39\n",
       "3        9\n",
       "13       1\n",
       "6        1\n",
       "5        1\n",
       "Name: count, dtype: int64"
      ]
     },
     "execution_count": 98,
     "metadata": {},
     "output_type": "execute_result"
    }
   ],
   "source": [
    "# Is there just one winner for each auction + item combo? No! There can be multiple winners, but rarely.\n",
    "\n",
    "df[df[\"Qualification Result\"] == \"Classificado - Vencedor\"]\\\n",
    ".groupby([\"Tender Code\", \"Description of the contracted object\"])[\"CNPJ of the candidate participant\"].nunique().value_counts()"
   ]
  },
  {
   "cell_type": "code",
   "execution_count": 105,
   "id": "0b167840-0748-40a0-a026-37f9fec7213c",
   "metadata": {},
   "outputs": [
    {
     "data": {
      "text/plain": [
       "CNPJ of the candidate participant\n",
       "1    1298\n",
       "Name: count, dtype: int64"
      ]
     },
     "execution_count": 105,
     "metadata": {},
     "output_type": "execute_result"
    }
   ],
   "source": [
    "# this is explained if we condition on other factors like the item quantity. Does this mean that an auction can have\n",
    "# the same item listed, each with different quantities, and each with a different winner?\n",
    "\n",
    "df[df[\"Qualification Result\"] == \"Classificado - Vencedor\"]\\\n",
    ".groupby([\"Tender Code\", \"Description of the contracted object\", \"Item estimate budget unit value\", \"Budget estimate item quantity\", \"Proposal Value\"])\\\n",
    "[\"CNPJ of the candidate participant\"].nunique().value_counts()"
   ]
  },
  {
   "cell_type": "code",
   "execution_count": 79,
   "id": "ff2c43bc-2921-4f2c-9f83-0a8c1d274164",
   "metadata": {},
   "outputs": [
    {
     "data": {
      "text/plain": [
       "(array([119.,   4.,   3.,   0.,   1.,   0.,   0.,   0.,   0.,   1.]),\n",
       " array([1.0000e+00, 2.4550e+02, 4.9000e+02, 7.3450e+02, 9.7900e+02,\n",
       "        1.2235e+03, 1.4680e+03, 1.7125e+03, 1.9570e+03, 2.2015e+03,\n",
       "        2.4460e+03]),\n",
       " <BarContainer object of 10 artists>)"
      ]
     },
     "execution_count": 79,
     "metadata": {},
     "output_type": "execute_result"
    },
    {
     "data": {
      "image/png": "[encoded data removed]",
      "text/plain": [
       "<Figure size 640x480 with 1 Axes>"
      ]
     },
     "metadata": {},
     "output_type": "display_data"
    }
   ],
   "source": [
    "# How often do bidders re-bid?\n",
    "\n",
    "plt.hist(df.groupby([\"Tender Code\", \"Description of the contracted object\"])[\"CNPJ of the candidate participant\"].count().value_counts())"
   ]
  },
  {
   "cell_type": "code",
   "execution_count": 99,
   "id": "b5864d6c-7658-4c5e-9a0c-cbf5d400dd53",
   "metadata": {},
   "outputs": [
    {
     "data": {
      "text/plain": [
       "1      20639\n",
       "2       1467\n",
       "3       8764\n",
       "4       2241\n",
       "5       1081\n",
       "6        277\n",
       "7        234\n",
       "8         91\n",
       "9        166\n",
       "10        18\n",
       "11        42\n",
       "12       176\n",
       "13       121\n",
       "15         6\n",
       "16        81\n",
       "18        30\n",
       "19        13\n",
       "20         2\n",
       "21        26\n",
       "22        12\n",
       "23         4\n",
       "24         2\n",
       "25         8\n",
       "26        10\n",
       "27        15\n",
       "28         2\n",
       "30         7\n",
       "32         1\n",
       "33        13\n",
       "36        22\n",
       "37         6\n",
       "38         2\n",
       "39         4\n",
       "40        18\n",
       "41         4\n",
       "44         3\n",
       "45         1\n",
       "48         5\n",
       "60         1\n",
       "75         6\n",
       "80         1\n",
       "81         1\n",
       "128        1\n",
       "132        1\n",
       "164        1\n",
       "620        3\n",
       "830       14\n",
       "835       15\n",
       "840        7\n",
       "845       14\n",
       "850       14\n",
       "985        8\n",
       "Name: count, dtype: int64"
      ]
     },
     "execution_count": 99,
     "metadata": {},
     "output_type": "execute_result"
    }
   ],
   "source": [
    "# as a table\n",
    "\n",
    "df.groupby([\"Tender Code\", \"Description of the contracted object\", \"CNPJ of the candidate participant\"]).size().value_counts().sort_index()"
   ]
  },
  {
   "cell_type": "code",
   "execution_count": 103,
   "id": "c2da02ee-b2f2-479b-8398-77f275e14529",
   "metadata": {},
   "outputs": [
    {
     "data": {
      "text/html": [
       "<div>\n",
       "<style scoped>\n",
       "    .dataframe tbody tr th:only-of-type {\n",
       "        vertical-align: middle;\n",
       "    }\n",
       "\n",
       "    .dataframe tbody tr th {\n",
       "        vertical-align: top;\n",
       "    }\n",
       "\n",
       "    .dataframe thead th {\n",
       "        text-align: right;\n",
       "    }\n",
       "</style>\n",
       "<table border=\"1\" class=\"dataframe\">\n",
       "  <thead>\n",
       "    <tr style=\"text-align: right;\">\n",
       "      <th></th>\n",
       "      <th>Tender Code</th>\n",
       "      <th>CNPJ of the candidate participant</th>\n",
       "      <th>Item estimate budget unit value</th>\n",
       "      <th>Budget estimate item quantity</th>\n",
       "      <th>Proposal Value</th>\n",
       "    </tr>\n",
       "  </thead>\n",
       "  <tbody>\n",
       "    <tr>\n",
       "      <th>1396236</th>\n",
       "      <td>2020168000080</td>\n",
       "      <td>09.260.071/</td>\n",
       "      <td>15,46</td>\n",
       "      <td>80,0</td>\n",
       "      <td>22423,5</td>\n",
       "    </tr>\n",
       "    <tr>\n",
       "      <th>1396237</th>\n",
       "      <td>2020168000080</td>\n",
       "      <td>09.260.071/</td>\n",
       "      <td>18,9</td>\n",
       "      <td>80,0</td>\n",
       "      <td>22423,5</td>\n",
       "    </tr>\n",
       "    <tr>\n",
       "      <th>1396238</th>\n",
       "      <td>2020168000080</td>\n",
       "      <td>09.260.071/</td>\n",
       "      <td>21,67</td>\n",
       "      <td>80,0</td>\n",
       "      <td>22423,5</td>\n",
       "    </tr>\n",
       "    <tr>\n",
       "      <th>1396239</th>\n",
       "      <td>2020168000080</td>\n",
       "      <td>09.260.071/</td>\n",
       "      <td>26,9</td>\n",
       "      <td>80,0</td>\n",
       "      <td>22423,5</td>\n",
       "    </tr>\n",
       "    <tr>\n",
       "      <th>1396240</th>\n",
       "      <td>2020168000080</td>\n",
       "      <td>09.260.071/</td>\n",
       "      <td>14,89</td>\n",
       "      <td>83,0</td>\n",
       "      <td>22423,5</td>\n",
       "    </tr>\n",
       "    <tr>\n",
       "      <th>1396241</th>\n",
       "      <td>2020168000080</td>\n",
       "      <td>09.260.071/</td>\n",
       "      <td>21,67</td>\n",
       "      <td>83,0</td>\n",
       "      <td>22423,5</td>\n",
       "    </tr>\n",
       "    <tr>\n",
       "      <th>1396242</th>\n",
       "      <td>2020168000080</td>\n",
       "      <td>09.260.071/</td>\n",
       "      <td>25,38</td>\n",
       "      <td>83,0</td>\n",
       "      <td>22423,5</td>\n",
       "    </tr>\n",
       "    <tr>\n",
       "      <th>1396243</th>\n",
       "      <td>2020168000080</td>\n",
       "      <td>09.260.071/</td>\n",
       "      <td>26,9</td>\n",
       "      <td>83,0</td>\n",
       "      <td>22423,5</td>\n",
       "    </tr>\n",
       "    <tr>\n",
       "      <th>1396244</th>\n",
       "      <td>2020168000080</td>\n",
       "      <td>09.260.071/</td>\n",
       "      <td>17,16</td>\n",
       "      <td>40,0</td>\n",
       "      <td>22423,5</td>\n",
       "    </tr>\n",
       "    <tr>\n",
       "      <th>1396245</th>\n",
       "      <td>2020168000080</td>\n",
       "      <td>09.260.071/</td>\n",
       "      <td>18,34</td>\n",
       "      <td>40,0</td>\n",
       "      <td>22423,5</td>\n",
       "    </tr>\n",
       "    <tr>\n",
       "      <th>1396246</th>\n",
       "      <td>2020168000080</td>\n",
       "      <td>09.260.071/</td>\n",
       "      <td>19,99</td>\n",
       "      <td>40,0</td>\n",
       "      <td>22423,5</td>\n",
       "    </tr>\n",
       "    <tr>\n",
       "      <th>1396247</th>\n",
       "      <td>2020168000080</td>\n",
       "      <td>09.260.071/</td>\n",
       "      <td>21,2</td>\n",
       "      <td>40,0</td>\n",
       "      <td>22423,5</td>\n",
       "    </tr>\n",
       "    <tr>\n",
       "      <th>1396248</th>\n",
       "      <td>2020168000080</td>\n",
       "      <td>09.260.071/</td>\n",
       "      <td>15,72</td>\n",
       "      <td>127,0</td>\n",
       "      <td>22423,5</td>\n",
       "    </tr>\n",
       "    <tr>\n",
       "      <th>1396249</th>\n",
       "      <td>2020168000080</td>\n",
       "      <td>09.260.071/</td>\n",
       "      <td>21,67</td>\n",
       "      <td>127,0</td>\n",
       "      <td>22423,5</td>\n",
       "    </tr>\n",
       "    <tr>\n",
       "      <th>1396250</th>\n",
       "      <td>2020168000080</td>\n",
       "      <td>09.260.071/</td>\n",
       "      <td>22,7</td>\n",
       "      <td>127,0</td>\n",
       "      <td>22423,5</td>\n",
       "    </tr>\n",
       "    <tr>\n",
       "      <th>1396251</th>\n",
       "      <td>2020168000080</td>\n",
       "      <td>09.260.071/</td>\n",
       "      <td>26,9</td>\n",
       "      <td>127,0</td>\n",
       "      <td>22423,5</td>\n",
       "    </tr>\n",
       "    <tr>\n",
       "      <th>1396252</th>\n",
       "      <td>2020168000080</td>\n",
       "      <td>09.260.071/</td>\n",
       "      <td>21,03</td>\n",
       "      <td>20,0</td>\n",
       "      <td>22423,5</td>\n",
       "    </tr>\n",
       "    <tr>\n",
       "      <th>1396253</th>\n",
       "      <td>2020168000080</td>\n",
       "      <td>09.260.071/</td>\n",
       "      <td>24,14</td>\n",
       "      <td>20,0</td>\n",
       "      <td>22423,5</td>\n",
       "    </tr>\n",
       "    <tr>\n",
       "      <th>1396254</th>\n",
       "      <td>2020168000080</td>\n",
       "      <td>09.260.071/</td>\n",
       "      <td>27,99</td>\n",
       "      <td>20,0</td>\n",
       "      <td>22423,5</td>\n",
       "    </tr>\n",
       "    <tr>\n",
       "      <th>1396255</th>\n",
       "      <td>2020168000080</td>\n",
       "      <td>09.260.071/</td>\n",
       "      <td>39,0</td>\n",
       "      <td>20,0</td>\n",
       "      <td>22423,5</td>\n",
       "    </tr>\n",
       "    <tr>\n",
       "      <th>1396256</th>\n",
       "      <td>2020168000080</td>\n",
       "      <td>09.260.071/</td>\n",
       "      <td>15,17</td>\n",
       "      <td>100,0</td>\n",
       "      <td>22423,5</td>\n",
       "    </tr>\n",
       "    <tr>\n",
       "      <th>1396257</th>\n",
       "      <td>2020168000080</td>\n",
       "      <td>09.260.071/</td>\n",
       "      <td>17,29</td>\n",
       "      <td>100,0</td>\n",
       "      <td>22423,5</td>\n",
       "    </tr>\n",
       "    <tr>\n",
       "      <th>1396258</th>\n",
       "      <td>2020168000080</td>\n",
       "      <td>09.260.071/</td>\n",
       "      <td>18,99</td>\n",
       "      <td>100,0</td>\n",
       "      <td>22423,5</td>\n",
       "    </tr>\n",
       "    <tr>\n",
       "      <th>1396259</th>\n",
       "      <td>2020168000080</td>\n",
       "      <td>09.260.071/</td>\n",
       "      <td>21,2</td>\n",
       "      <td>100,0</td>\n",
       "      <td>22423,5</td>\n",
       "    </tr>\n",
       "    <tr>\n",
       "      <th>1396260</th>\n",
       "      <td>2020168000080</td>\n",
       "      <td>09.260.071/</td>\n",
       "      <td>12,96</td>\n",
       "      <td>707,0</td>\n",
       "      <td>22423,5</td>\n",
       "    </tr>\n",
       "    <tr>\n",
       "      <th>1396261</th>\n",
       "      <td>2020168000080</td>\n",
       "      <td>09.260.071/</td>\n",
       "      <td>17,21</td>\n",
       "      <td>707,0</td>\n",
       "      <td>22423,5</td>\n",
       "    </tr>\n",
       "    <tr>\n",
       "      <th>1396262</th>\n",
       "      <td>2020168000080</td>\n",
       "      <td>09.260.071/</td>\n",
       "      <td>19,99</td>\n",
       "      <td>707,0</td>\n",
       "      <td>22423,5</td>\n",
       "    </tr>\n",
       "    <tr>\n",
       "      <th>1396263</th>\n",
       "      <td>2020168000080</td>\n",
       "      <td>09.260.071/</td>\n",
       "      <td>21,2</td>\n",
       "      <td>707,0</td>\n",
       "      <td>22423,5</td>\n",
       "    </tr>\n",
       "    <tr>\n",
       "      <th>1396264</th>\n",
       "      <td>2020168000080</td>\n",
       "      <td>09.260.071/</td>\n",
       "      <td>17,99</td>\n",
       "      <td>202,0</td>\n",
       "      <td>22423,5</td>\n",
       "    </tr>\n",
       "    <tr>\n",
       "      <th>1396265</th>\n",
       "      <td>2020168000080</td>\n",
       "      <td>09.260.071/</td>\n",
       "      <td>18,48</td>\n",
       "      <td>202,0</td>\n",
       "      <td>22423,5</td>\n",
       "    </tr>\n",
       "    <tr>\n",
       "      <th>1396266</th>\n",
       "      <td>2020168000080</td>\n",
       "      <td>09.260.071/</td>\n",
       "      <td>19,99</td>\n",
       "      <td>202,0</td>\n",
       "      <td>22423,5</td>\n",
       "    </tr>\n",
       "    <tr>\n",
       "      <th>1396267</th>\n",
       "      <td>2020168000080</td>\n",
       "      <td>09.260.071/</td>\n",
       "      <td>21,2</td>\n",
       "      <td>202,0</td>\n",
       "      <td>22423,5</td>\n",
       "    </tr>\n",
       "  </tbody>\n",
       "</table>\n",
       "</div>"
      ],
      "text/plain": [
       "           Tender Code CNPJ of the candidate participant  \\\n",
       "1396236  2020168000080                       09.260.071/   \n",
       "1396237  2020168000080                       09.260.071/   \n",
       "1396238  2020168000080                       09.260.071/   \n",
       "1396239  2020168000080                       09.260.071/   \n",
       "1396240  2020168000080                       09.260.071/   \n",
       "1396241  2020168000080                       09.260.071/   \n",
       "1396242  2020168000080                       09.260.071/   \n",
       "1396243  2020168000080                       09.260.071/   \n",
       "1396244  2020168000080                       09.260.071/   \n",
       "1396245  2020168000080                       09.260.071/   \n",
       "1396246  2020168000080                       09.260.071/   \n",
       "1396247  2020168000080                       09.260.071/   \n",
       "1396248  2020168000080                       09.260.071/   \n",
       "1396249  2020168000080                       09.260.071/   \n",
       "1396250  2020168000080                       09.260.071/   \n",
       "1396251  2020168000080                       09.260.071/   \n",
       "1396252  2020168000080                       09.260.071/   \n",
       "1396253  2020168000080                       09.260.071/   \n",
       "1396254  2020168000080                       09.260.071/   \n",
       "1396255  2020168000080                       09.260.071/   \n",
       "1396256  2020168000080                       09.260.071/   \n",
       "1396257  2020168000080                       09.260.071/   \n",
       "1396258  2020168000080                       09.260.071/   \n",
       "1396259  2020168000080                       09.260.071/   \n",
       "1396260  2020168000080                       09.260.071/   \n",
       "1396261  2020168000080                       09.260.071/   \n",
       "1396262  2020168000080                       09.260.071/   \n",
       "1396263  2020168000080                       09.260.071/   \n",
       "1396264  2020168000080                       09.260.071/   \n",
       "1396265  2020168000080                       09.260.071/   \n",
       "1396266  2020168000080                       09.260.071/   \n",
       "1396267  2020168000080                       09.260.071/   \n",
       "\n",
       "        Item estimate budget unit value Budget estimate item quantity  \\\n",
       "1396236                           15,46                          80,0   \n",
       "1396237                            18,9                          80,0   \n",
       "1396238                           21,67                          80,0   \n",
       "1396239                            26,9                          80,0   \n",
       "1396240                           14,89                          83,0   \n",
       "1396241                           21,67                          83,0   \n",
       "1396242                           25,38                          83,0   \n",
       "1396243                            26,9                          83,0   \n",
       "1396244                           17,16                          40,0   \n",
       "1396245                           18,34                          40,0   \n",
       "1396246                           19,99                          40,0   \n",
       "1396247                            21,2                          40,0   \n",
       "1396248                           15,72                         127,0   \n",
       "1396249                           21,67                         127,0   \n",
       "1396250                            22,7                         127,0   \n",
       "1396251                            26,9                         127,0   \n",
       "1396252                           21,03                          20,0   \n",
       "1396253                           24,14                          20,0   \n",
       "1396254                           27,99                          20,0   \n",
       "1396255                            39,0                          20,0   \n",
       "1396256                           15,17                         100,0   \n",
       "1396257                           17,29                         100,0   \n",
       "1396258                           18,99                         100,0   \n",
       "1396259                            21,2                         100,0   \n",
       "1396260                           12,96                         707,0   \n",
       "1396261                           17,21                         707,0   \n",
       "1396262                           19,99                         707,0   \n",
       "1396263                            21,2                         707,0   \n",
       "1396264                           17,99                         202,0   \n",
       "1396265                           18,48                         202,0   \n",
       "1396266                           19,99                         202,0   \n",
       "1396267                            21,2                         202,0   \n",
       "\n",
       "        Proposal Value  \n",
       "1396236        22423,5  \n",
       "1396237        22423,5  \n",
       "1396238        22423,5  \n",
       "1396239        22423,5  \n",
       "1396240        22423,5  \n",
       "1396241        22423,5  \n",
       "1396242        22423,5  \n",
       "1396243        22423,5  \n",
       "1396244        22423,5  \n",
       "1396245        22423,5  \n",
       "1396246        22423,5  \n",
       "1396247        22423,5  \n",
       "1396248        22423,5  \n",
       "1396249        22423,5  \n",
       "1396250        22423,5  \n",
       "1396251        22423,5  \n",
       "1396252        22423,5  \n",
       "1396253        22423,5  \n",
       "1396254        22423,5  \n",
       "1396255        22423,5  \n",
       "1396256        22423,5  \n",
       "1396257        22423,5  \n",
       "1396258        22423,5  \n",
       "1396259        22423,5  \n",
       "1396260        22423,5  \n",
       "1396261        22423,5  \n",
       "1396262        22423,5  \n",
       "1396263        22423,5  \n",
       "1396264        22423,5  \n",
       "1396265        22423,5  \n",
       "1396266        22423,5  \n",
       "1396267        22423,5  "
      ]
     },
     "execution_count": 103,
     "metadata": {},
     "output_type": "execute_result"
    }
   ],
   "source": [
    "# find the instance where a bidder re-bid 32 times. \n",
    "# It appears that here the item estimated budget unit value and quantity is changing?? \n",
    "# Is this multiple items in the same auction?\n",
    "\n",
    "necessary_columns = [\"Tender Code\", \"CNPJ of the candidate participant\", \"Item estimate budget unit value\", \"Budget estimate item quantity\", \"Proposal Value\"]\n",
    "df[df.groupby([\"Tender Code\", \"Description of the contracted object\", \"CNPJ of the candidate participant\"]).transform(\"size\") == 32][necessary_columns]"
   ]
  },
  {
   "cell_type": "code",
   "execution_count": 112,
   "id": "a05ab6d2-ebfe-4c7c-ab4b-2925fd400dbe",
   "metadata": {},
   "outputs": [
    {
     "name": "stdout",
     "output_type": "stream",
     "text": [
      "1     6966\n",
      "2      580\n",
      "3      694\n",
      "4      658\n",
      "5       42\n",
      "6        7\n",
      "8       15\n",
      "9       43\n",
      "10      30\n",
      "12       7\n",
      "16       3\n",
      "20       4\n",
      "Name: count, dtype: int64\n",
      "1     0.769809\n",
      "2     0.064095\n",
      "3     0.076694\n",
      "4     0.072715\n",
      "5     0.004641\n",
      "6     0.000774\n",
      "8     0.001658\n",
      "9     0.004752\n",
      "10    0.003315\n",
      "12    0.000774\n",
      "16    0.000332\n",
      "20    0.000442\n",
      "Name: count, dtype: float64\n"
     ]
    }
   ],
   "source": [
    "# Conditioning on uniqueness of the estimated budget unit value and quantity, list number of repeat bids\n",
    "repeat_bids = df.groupby(\n",
    "    [\"Tender Code\", \"Description of the contracted object\", \"CNPJ of the candidate participant\", \"Item estimate budget unit value\", \"Budget estimate item quantity\",]\n",
    ").size().value_counts().sort_index()\n",
    "print(repeat_bids)\n",
    "print(repeat_bids / repeat_bids.sum())"
   ]
  },
  {
   "cell_type": "code",
   "execution_count": 109,
   "id": "3ef85aae-c4a8-4946-a9e0-a6cf42da4014",
   "metadata": {},
   "outputs": [
    {
     "data": {
      "text/plain": [
       "Qualification Result\n",
       "True     0.629769\n",
       "False    0.370231\n",
       "Name: count, dtype: float64"
      ]
     },
     "execution_count": 109,
     "metadata": {},
     "output_type": "execute_result"
    }
   ],
   "source": [
    "# How often does an auction have a winner?\n",
    "\n",
    "auction_results = df.groupby([\"Tender Code\", \"Description of the contracted object\"])[\"Qualification Result\"].apply(lambda x: \"Classificado - Vencedor\" in x.values).value_counts()\n",
    "auction_results / auction_results.sum()"
   ]
  },
  {
   "cell_type": "code",
   "execution_count": 107,
   "id": "09fd5746-ed7d-4183-b471-828da959ce66",
   "metadata": {},
   "outputs": [
    {
     "data": {
      "text/plain": [
       "Qualification Result\n",
       "Classificado               0.742415\n",
       "Classificado - Vencedor    0.141723\n",
       "Desclassificado            0.073691\n",
       "Inabilitado                0.002932\n",
       "Desistiu                   0.002918\n",
       "Nao Compareceu             0.002521\n",
       "Name: count, dtype: float64"
      ]
     },
     "execution_count": 107,
     "metadata": {},
     "output_type": "execute_result"
    }
   ],
   "source": [
    "# What is the distribution of outcomes for bidders?\n",
    "\n",
    "df[\"Qualification Result\"].value_counts() / len(df)"
   ]
  }
 ],
 "metadata": {
  "kernelspec": {
   "display_name": "Python 3 (ipykernel)",
   "language": "python",
   "name": "python3"
  },
  "language_info": {
   "codemirror_mode": {
    "name": "ipython",
    "version": 3
   },
   "file_extension": ".py",
   "mimetype": "text/x-python",
   "name": "python",
   "nbconvert_exporter": "python",
   "pygments_lexer": "ipython3",
   "version": "3.10.15"
  }
 },
 "nbformat": 4,
 "nbformat_minor": 5
}
